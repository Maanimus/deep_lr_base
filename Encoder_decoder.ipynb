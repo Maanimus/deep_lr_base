{
 "cells": [
  {
   "cell_type": "code",
   "execution_count": 36,
   "metadata": {},
   "outputs": [],
   "source": [
    "from keras.layers import Input, Dense\n",
    "from keras import losses\n",
    "from keras.models import Model\n",
    "from keras.datasets import mnist\n",
    "import matplotlib.pyplot as plt \n",
    "import numpy as np \n",
    "\n",
    "#from tensorflow import keras \n",
    "#import tensorflow as tf"
   ]
  },
  {
   "cell_type": "code",
   "execution_count": 28,
   "metadata": {},
   "outputs": [],
   "source": [
    "(x_train,_),(x_test,_) = mnist.load_data()\n",
    "x_train = x_train.astype('float32')/255.\n",
    "x_test = x_test.astype('float32')/255.\n",
    "x_train = x_train.reshape(x_train.shape[0],784)\n",
    "x_test = x_test.reshape(x_test.shape[0],784)\n"
   ]
  },
  {
   "cell_type": "code",
   "execution_count": 29,
   "metadata": {},
   "outputs": [],
   "source": [
    "encoding_dim = 32\n",
    "input_imgs = Input(shape=(784,))\n",
    "encoder_img= Dense(encoding_dim, activation='relu')(input_imgs)\n",
    "decoder_img= Dense(784, activation='sigmoid')(encoder_img)\n",
    "\n",
    "encoder = Model(input_imgs, encoder_img)\n",
    "autoencoder = Model(input_imgs, decoder_img)"
   ]
  },
  {
   "cell_type": "code",
   "execution_count": 52,
   "metadata": {},
   "outputs": [],
   "source": [
    "autoencoder.compile(optimizer ='adadelta', loss ='binary_crossentropy',\n",
    "                  metrics=['accuracy'])"
   ]
  },
  {
   "cell_type": "code",
   "execution_count": 30,
   "metadata": {},
   "outputs": [],
   "source": [
    "autoencoder.compile(optimizer ='Adam', loss =losses.MeanSquaredError())\n",
    "                  #metrics=['accuracy'])"
   ]
  },
  {
   "cell_type": "code",
   "execution_count": 53,
   "metadata": {
    "scrolled": true
   },
   "outputs": [
    {
     "name": "stdout",
     "output_type": "stream",
     "text": [
      "Epoch 1/50\n",
      "235/235 [==============================] - 1s 2ms/step - loss: 0.0918 - accuracy: 0.0121 - val_loss: 0.0909 - val_accuracy: 0.0128\n",
      "Epoch 2/50\n",
      "235/235 [==============================] - 0s 1ms/step - loss: 0.0918 - accuracy: 0.0115 - val_loss: 0.0909 - val_accuracy: 0.0129\n",
      "Epoch 3/50\n",
      "235/235 [==============================] - 0s 1ms/step - loss: 0.0919 - accuracy: 0.0112 - val_loss: 0.0909 - val_accuracy: 0.0130\n",
      "Epoch 4/50\n",
      "235/235 [==============================] - 0s 1ms/step - loss: 0.0918 - accuracy: 0.0118 - val_loss: 0.0909 - val_accuracy: 0.0130\n",
      "Epoch 5/50\n",
      "235/235 [==============================] - 0s 1ms/step - loss: 0.0916 - accuracy: 0.0123 - val_loss: 0.0909 - val_accuracy: 0.0130\n",
      "Epoch 6/50\n",
      "235/235 [==============================] - 0s 1ms/step - loss: 0.0917 - accuracy: 0.0115 - val_loss: 0.0909 - val_accuracy: 0.0131\n",
      "Epoch 7/50\n",
      "235/235 [==============================] - 0s 1ms/step - loss: 0.0916 - accuracy: 0.0131 - val_loss: 0.0908 - val_accuracy: 0.0134\n",
      "Epoch 8/50\n",
      "235/235 [==============================] - 0s 1ms/step - loss: 0.0918 - accuracy: 0.0118 - val_loss: 0.0908 - val_accuracy: 0.0135\n",
      "Epoch 9/50\n",
      "235/235 [==============================] - 0s 1ms/step - loss: 0.0917 - accuracy: 0.0123 - val_loss: 0.0908 - val_accuracy: 0.0136\n",
      "Epoch 10/50\n",
      "235/235 [==============================] - 0s 1ms/step - loss: 0.0918 - accuracy: 0.0122 - val_loss: 0.0908 - val_accuracy: 0.0136\n",
      "Epoch 11/50\n",
      "235/235 [==============================] - 0s 1ms/step - loss: 0.0916 - accuracy: 0.0118 - val_loss: 0.0908 - val_accuracy: 0.0136\n",
      "Epoch 12/50\n",
      "235/235 [==============================] - 0s 1ms/step - loss: 0.0916 - accuracy: 0.0113 - val_loss: 0.0908 - val_accuracy: 0.0135\n",
      "Epoch 13/50\n",
      "235/235 [==============================] - 0s 1ms/step - loss: 0.0919 - accuracy: 0.0119 - val_loss: 0.0908 - val_accuracy: 0.0135\n",
      "Epoch 14/50\n",
      "235/235 [==============================] - 0s 1ms/step - loss: 0.0917 - accuracy: 0.0116 - val_loss: 0.0908 - val_accuracy: 0.0135\n",
      "Epoch 15/50\n",
      "235/235 [==============================] - 0s 1ms/step - loss: 0.0916 - accuracy: 0.0118 - val_loss: 0.0908 - val_accuracy: 0.0135\n",
      "Epoch 16/50\n",
      "235/235 [==============================] - 0s 1ms/step - loss: 0.0918 - accuracy: 0.0112 - val_loss: 0.0908 - val_accuracy: 0.0135\n",
      "Epoch 17/50\n",
      "235/235 [==============================] - 0s 1ms/step - loss: 0.0917 - accuracy: 0.0111 - val_loss: 0.0908 - val_accuracy: 0.0135\n",
      "Epoch 18/50\n",
      "235/235 [==============================] - 0s 1ms/step - loss: 0.0917 - accuracy: 0.0120 - val_loss: 0.0908 - val_accuracy: 0.0135\n",
      "Epoch 19/50\n",
      "235/235 [==============================] - 0s 1ms/step - loss: 0.0920 - accuracy: 0.0116 - val_loss: 0.0908 - val_accuracy: 0.0135\n",
      "Epoch 20/50\n",
      "235/235 [==============================] - 0s 1ms/step - loss: 0.0917 - accuracy: 0.0116 - val_loss: 0.0908 - val_accuracy: 0.0137\n",
      "Epoch 21/50\n",
      "235/235 [==============================] - 0s 1ms/step - loss: 0.0916 - accuracy: 0.0118 - val_loss: 0.0908 - val_accuracy: 0.0138\n",
      "Epoch 22/50\n",
      "235/235 [==============================] - 0s 1ms/step - loss: 0.0917 - accuracy: 0.0114 - val_loss: 0.0908 - val_accuracy: 0.0138\n",
      "Epoch 23/50\n",
      "235/235 [==============================] - 0s 1ms/step - loss: 0.0918 - accuracy: 0.0114 - val_loss: 0.0908 - val_accuracy: 0.0138\n",
      "Epoch 24/50\n",
      "235/235 [==============================] - 0s 1ms/step - loss: 0.0916 - accuracy: 0.0114 - val_loss: 0.0908 - val_accuracy: 0.0137\n",
      "Epoch 25/50\n",
      "235/235 [==============================] - 0s 1ms/step - loss: 0.0917 - accuracy: 0.0117 - val_loss: 0.0908 - val_accuracy: 0.0136\n",
      "Epoch 26/50\n",
      "235/235 [==============================] - 0s 1ms/step - loss: 0.0917 - accuracy: 0.0113 - val_loss: 0.0908 - val_accuracy: 0.0137\n",
      "Epoch 27/50\n",
      "235/235 [==============================] - 0s 1ms/step - loss: 0.0917 - accuracy: 0.0119 - val_loss: 0.0908 - val_accuracy: 0.0136\n",
      "Epoch 28/50\n",
      "235/235 [==============================] - 0s 1ms/step - loss: 0.0914 - accuracy: 0.0118 - val_loss: 0.0908 - val_accuracy: 0.0136\n",
      "Epoch 29/50\n",
      "235/235 [==============================] - 0s 1ms/step - loss: 0.0919 - accuracy: 0.0115 - val_loss: 0.0908 - val_accuracy: 0.0136\n",
      "Epoch 30/50\n",
      "235/235 [==============================] - 0s 1ms/step - loss: 0.0918 - accuracy: 0.0112 - val_loss: 0.0908 - val_accuracy: 0.0136\n",
      "Epoch 31/50\n",
      "235/235 [==============================] - 0s 1ms/step - loss: 0.0917 - accuracy: 0.0113 - val_loss: 0.0908 - val_accuracy: 0.0136\n",
      "Epoch 32/50\n",
      "235/235 [==============================] - 0s 1ms/step - loss: 0.0919 - accuracy: 0.0121 - val_loss: 0.0908 - val_accuracy: 0.0135\n",
      "Epoch 33/50\n",
      "235/235 [==============================] - 0s 1ms/step - loss: 0.0916 - accuracy: 0.0115 - val_loss: 0.0907 - val_accuracy: 0.0135\n",
      "Epoch 34/50\n",
      "235/235 [==============================] - 0s 1ms/step - loss: 0.0919 - accuracy: 0.0119 - val_loss: 0.0907 - val_accuracy: 0.0135\n",
      "Epoch 35/50\n",
      "235/235 [==============================] - 0s 1ms/step - loss: 0.0917 - accuracy: 0.0115 - val_loss: 0.0907 - val_accuracy: 0.0135\n",
      "Epoch 36/50\n",
      "235/235 [==============================] - 0s 1ms/step - loss: 0.0916 - accuracy: 0.0112 - val_loss: 0.0907 - val_accuracy: 0.0135\n",
      "Epoch 37/50\n",
      "235/235 [==============================] - 0s 2ms/step - loss: 0.0916 - accuracy: 0.0108 - val_loss: 0.0907 - val_accuracy: 0.0136\n",
      "Epoch 38/50\n",
      "235/235 [==============================] - 0s 1ms/step - loss: 0.0917 - accuracy: 0.0112 - val_loss: 0.0907 - val_accuracy: 0.0136\n",
      "Epoch 39/50\n",
      "235/235 [==============================] - 0s 1ms/step - loss: 0.0916 - accuracy: 0.0116 - val_loss: 0.0907 - val_accuracy: 0.0136\n",
      "Epoch 40/50\n",
      "235/235 [==============================] - 0s 1ms/step - loss: 0.0916 - accuracy: 0.0101 - val_loss: 0.0907 - val_accuracy: 0.0136\n",
      "Epoch 41/50\n",
      "235/235 [==============================] - 0s 2ms/step - loss: 0.0916 - accuracy: 0.0110 - val_loss: 0.0907 - val_accuracy: 0.0136\n",
      "Epoch 42/50\n",
      "235/235 [==============================] - 0s 1ms/step - loss: 0.0915 - accuracy: 0.0118 - val_loss: 0.0907 - val_accuracy: 0.0136\n",
      "Epoch 43/50\n",
      "235/235 [==============================] - 0s 2ms/step - loss: 0.0916 - accuracy: 0.0118 - val_loss: 0.0907 - val_accuracy: 0.0136\n",
      "Epoch 44/50\n",
      "235/235 [==============================] - 0s 2ms/step - loss: 0.0917 - accuracy: 0.0112 - val_loss: 0.0907 - val_accuracy: 0.0135\n",
      "Epoch 45/50\n",
      "235/235 [==============================] - 0s 1ms/step - loss: 0.0917 - accuracy: 0.0118 - val_loss: 0.0907 - val_accuracy: 0.0137\n",
      "Epoch 46/50\n",
      "235/235 [==============================] - 0s 2ms/step - loss: 0.0918 - accuracy: 0.0116 - val_loss: 0.0907 - val_accuracy: 0.0137\n",
      "Epoch 47/50\n",
      "235/235 [==============================] - 0s 2ms/step - loss: 0.0915 - accuracy: 0.0108 - val_loss: 0.0907 - val_accuracy: 0.0136\n",
      "Epoch 48/50\n",
      "235/235 [==============================] - 0s 1ms/step - loss: 0.0918 - accuracy: 0.0119 - val_loss: 0.0907 - val_accuracy: 0.0136\n",
      "Epoch 49/50\n",
      "235/235 [==============================] - 0s 2ms/step - loss: 0.0917 - accuracy: 0.0117 - val_loss: 0.0907 - val_accuracy: 0.0138\n",
      "Epoch 50/50\n",
      "235/235 [==============================] - 0s 2ms/step - loss: 0.0918 - accuracy: 0.0118 - val_loss: 0.0907 - val_accuracy: 0.0138\n",
      "training Loss= 0.0916704460978508 training Accuracy= 0.01145000010728836\n"
     ]
    }
   ],
   "source": [
    "n=50 \n",
    "hist=autoencoder.fit(x_train, x_train, epochs = n, batch_size=256, shuffle =True,\n",
    "                    validation_data=(x_test,x_test))\n",
    "loss=hist.history['loss']\n",
    "accuracy=hist.history['accuracy']\n",
    "print('training Loss=',loss[n-1], 'training Accuracy=', accuracy[n-1])\n"
   ]
  },
  {
   "cell_type": "code",
   "execution_count": 54,
   "metadata": {
    "scrolled": false
   },
   "outputs": [
    {
     "name": "stdout",
     "output_type": "stream",
     "text": [
      "\n",
      " Encoded Image Data = [ 5.7641897  12.914411    8.205729    5.5875726   5.2786837  11.396523\n",
      "  2.7982335   9.708956   12.168751    6.4316907   8.827019    1.1957786\n",
      "  4.8104177   9.024109    0.40626168  9.36697     3.2561011  10.048044\n",
      "  7.8111353   1.4783278   2.6560116   5.8017282  11.322936    4.27249\n",
      "  7.6809535   7.488422   17.425068    4.4502783   5.649187    6.6848555\n",
      "  8.829265    3.7067797 ]\n"
     ]
    }
   ],
   "source": [
    "encoded_imgs = encoder.predict(x_test)\n",
    "decoded_imgs = autoencoder.predict(x_test)\n",
    "print('\\n Encoded Image Data =',encoded_imgs[1])\n"
   ]
  },
  {
   "cell_type": "code",
   "execution_count": null,
   "metadata": {},
   "outputs": [],
   "source": []
  },
  {
   "cell_type": "code",
   "execution_count": 55,
   "metadata": {},
   "outputs": [
    {
     "ename": "AttributeError",
     "evalue": "'int' object has no attribute 'arange'",
     "output_type": "error",
     "traceback": [
      "\u001b[1;31m---------------------------------------------------------------------------\u001b[0m",
      "\u001b[1;31mAttributeError\u001b[0m                            Traceback (most recent call last)",
      "\u001b[1;32m<ipython-input-55-24c895b151d4>\u001b[0m in \u001b[0;36m<module>\u001b[1;34m\u001b[0m\n\u001b[1;32m----> 1\u001b[1;33m \u001b[0mxt\u001b[0m\u001b[1;33m=\u001b[0m\u001b[0mnp\u001b[0m\u001b[1;33m.\u001b[0m\u001b[0marange\u001b[0m\u001b[1;33m(\u001b[0m\u001b[0mlen\u001b[0m\u001b[1;33m(\u001b[0m\u001b[0mloss\u001b[0m\u001b[1;33m)\u001b[0m\u001b[1;33m)\u001b[0m\u001b[1;33m\u001b[0m\u001b[1;33m\u001b[0m\u001b[0m\n\u001b[0m\u001b[0;32m      2\u001b[0m \u001b[0mplt\u001b[0m\u001b[1;33m.\u001b[0m\u001b[0mfigure\u001b[0m\u001b[1;33m(\u001b[0m\u001b[1;36m1\u001b[0m\u001b[1;33m)\u001b[0m\u001b[1;33m\u001b[0m\u001b[1;33m\u001b[0m\u001b[0m\n\u001b[0;32m      3\u001b[0m \u001b[0mplt\u001b[0m\u001b[1;33m.\u001b[0m\u001b[0mplot\u001b[0m\u001b[1;33m(\u001b[0m\u001b[0mxt\u001b[0m\u001b[1;33m,\u001b[0m\u001b[0mloss\u001b[0m\u001b[1;33m,\u001b[0m\u001b[0mmarker\u001b[0m\u001b[1;33m=\u001b[0m\u001b[1;34m\".\"\u001b[0m\u001b[1;33m,\u001b[0m\u001b[0mc\u001b[0m\u001b[1;33m=\u001b[0m\u001b[1;34m'red'\u001b[0m\u001b[1;33m,\u001b[0m \u001b[0mlabel\u001b[0m \u001b[1;33m=\u001b[0m\u001b[1;34m'Loss'\u001b[0m\u001b[1;33m)\u001b[0m\u001b[1;33m\u001b[0m\u001b[1;33m\u001b[0m\u001b[0m\n\u001b[0;32m      4\u001b[0m \u001b[0mplt\u001b[0m\u001b[1;33m.\u001b[0m\u001b[0mplot\u001b[0m\u001b[1;33m(\u001b[0m\u001b[0mxt\u001b[0m\u001b[1;33m,\u001b[0m\u001b[0maccuracy\u001b[0m\u001b[1;33m,\u001b[0m\u001b[0mmarker\u001b[0m\u001b[1;33m=\u001b[0m\u001b[1;34m'.'\u001b[0m\u001b[1;33m,\u001b[0m\u001b[0mc\u001b[0m \u001b[1;33m=\u001b[0m\u001b[1;34m'blue'\u001b[0m\u001b[1;33m,\u001b[0m\u001b[0mlabel\u001b[0m\u001b[1;33m=\u001b[0m\u001b[1;34m'Acc'\u001b[0m\u001b[1;33m)\u001b[0m\u001b[1;33m\u001b[0m\u001b[1;33m\u001b[0m\u001b[0m\n\u001b[0;32m      5\u001b[0m \u001b[0mplt\u001b[0m\u001b[1;33m.\u001b[0m\u001b[0mlegend\u001b[0m\u001b[1;33m(\u001b[0m\u001b[0mloc\u001b[0m\u001b[1;33m=\u001b[0m\u001b[1;34m'center right'\u001b[0m\u001b[1;33m)\u001b[0m\u001b[1;33m;\u001b[0m \u001b[0mplt\u001b[0m\u001b[1;33m.\u001b[0m\u001b[0mgrid\u001b[0m\u001b[1;33m(\u001b[0m\u001b[1;33m)\u001b[0m\u001b[1;33m\u001b[0m\u001b[1;33m\u001b[0m\u001b[0m\n",
      "\u001b[1;31mAttributeError\u001b[0m: 'int' object has no attribute 'arange'"
     ]
    }
   ],
   "source": [
    "xt=np.arange(len(loss))\n",
    "plt.figure(1)\n",
    "plt.plot(xt,loss,marker=\".\",c='red', label ='Loss')\n",
    "plt.plot(xt,accuracy,marker='.',c ='blue',label='Acc')\n",
    "plt.legend(loc='center right'); plt.grid()\n",
    "plt.xlabel('epoch');plt.ylabel('Loss and Accuracy')"
   ]
  },
  {
   "cell_type": "code",
   "execution_count": 48,
   "metadata": {},
   "outputs": [
    {
     "data": {
      "image/png": "[encoded data removed]",
      "text/plain": [
       "<Figure size 432x288 with 4 Axes>"
      ]
     },
     "metadata": {
      "needs_background": "light"
     },
     "output_type": "display_data"
    }
   ],
   "source": [
    "np=2  # 몇 개의 숫자를 나타낼 것인지\n",
    "plt.figure(2)\n",
    "for i in range(np):\n",
    "    ax = plt.subplot(3, np, i + 1)\n",
    "    plt.imshow(x_test[i].reshape(28, 28))\n",
    "    plt.axis('off')\n",
    "    \n",
    "    # 재구성된 데이터\n",
    "    #ax = plt.subplot(3, np, i + 1 + np)\n",
    "    #plt.imshow(encoded_imgs[i].reshape(28, 28))\n",
    "    #plt.axis('off')\n",
    "    \n",
    "    ax = plt.subplot(3, np, i + 1+2*np)\n",
    "    plt.imshow(decoded_imgs[i].reshape(28, 28))\n",
    "    plt.axis('off')\n",
    "       \n",
    "plt.show()"
   ]
  },
  {
   "cell_type": "code",
   "execution_count": null,
   "metadata": {},
   "outputs": [],
   "source": []
  }
 ],
 "metadata": {
  "kernelspec": {
   "display_name": "Python 3",
   "language": "python",
   "name": "python3"
  },
  "language_info": {
   "codemirror_mode": {
    "name": "ipython",
    "version": 3
   },
   "file_extension": ".py",
   "mimetype": "text/x-python",
   "name": "python",
   "nbconvert_exporter": "python",
   "pygments_lexer": "ipython3",
   "version": "3.8.5"
  }
 },
 "nbformat": 4,
 "nbformat_minor": 4
}
